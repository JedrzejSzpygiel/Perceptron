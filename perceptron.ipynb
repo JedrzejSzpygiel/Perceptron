{
 "cells": [
  {
   "cell_type": "code",
   "execution_count": 8,
   "metadata": {},
   "outputs": [],
   "source": [
    "import numpy as np\n",
    "\n",
    "class Perceptron(object):\n",
    "\n",
    "    \"\"\"\n",
    "    Parameters:\n",
    "    eta - learning rate (0 to 1) - float\n",
    "    n_iter - number of iterations - int\n",
    "    random_state - initial weight seed - int\n",
    "\n",
    "    Attributes:\n",
    "    w_ - weights - 1d array\n",
    "    errors_ - unmber of missclassifications on each epoch - list\n",
    "\n",
    "    \"\"\"\n",
    "\n",
    "    def __init__(\n",
    "        self,\n",
    "        eta=0.01,\n",
    "        n_iter=50,\n",
    "        random_state=1,\n",
    "        ):\n",
    "        self.eta = eta\n",
    "        self.n_iter = n_iter\n",
    "        self.random_state = random_state\n",
    "\n",
    "    def fit(self, X, y):\n",
    "        \"\"\"\n",
    "        Fiting training data.\n",
    "        Parameters:\n",
    "        X - shape = [n_examples, n_features] - trainging set matrix\n",
    "        y - shape = [n_examples] - labels\n",
    "        Returns: self:object\n",
    "\n",
    "       \"\"\"\n",
    "\n",
    "        rgen = np.random.RandomState(self.random_state)\n",
    "        self.w_ = rgen.normal(loc=0.0, scale=0.01, size=1 + X.shape[1])\n",
    "        self.errors_ = []\n",
    "        for i in range(self.n_iter):\n",
    "            errors = 0\n",
    "            for (xi, target) in zip(X, y):\n",
    "                update = self.eta * (target - self.predict(X))\n",
    "                self.w_[1:] += update * xi\n",
    "                self.w_[0] += update\n",
    "                errors += int(update != 0.0)\n",
    "            self.errors_.append(errors)\n",
    "        return self\n",
    "\n",
    "    def net_input(self, X):\n",
    "        \"\"\"\n",
    "        Net input calculation\n",
    "        \"\"\"\n",
    "\n",
    "        return np.dot(X, self.w_[1:] + self.w_[0])\n",
    "\n",
    "    def predict(self, X):\n",
    "        \"\"\"\n",
    "        Return class label after unit step\n",
    "        \"\"\"\n",
    "\n",
    "        return np.where(self.net_input(X) >= 0.0, 1, -1)"
   ]
  }
 ],
 "metadata": {
  "kernelspec": {
   "display_name": "Python 3",
   "language": "python",
   "name": "python3"
  },
  "language_info": {
   "codemirror_mode": {
    "name": "ipython",
    "version": 3
   },
   "file_extension": ".py",
   "mimetype": "text/x-python",
   "name": "python",
   "nbconvert_exporter": "python",
   "pygments_lexer": "ipython3",
   "version": "3.11.1"
  },
  "orig_nbformat": 4,
  "vscode": {
   "interpreter": {
    "hash": "1789ecada89d1f115091e454287b561056312c9518fc5edb2a986fbeff414704"
   }
  }
 },
 "nbformat": 4,
 "nbformat_minor": 2
}
